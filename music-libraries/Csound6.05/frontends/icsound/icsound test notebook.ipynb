{
 "metadata": {
  "name": "",
  "signature": "sha256:2f8c94a99d856792d19d71767dee2c76c3aef49178017b02bea137c2ec3d5cf3"
 },
 "nbformat": 3,
 "nbformat_minor": 0,
 "worksheets": [
  {
   "cells": [
    {
     "cell_type": "markdown",
     "metadata": {},
     "source": [
      "#Using icsound\n",
      "\n",
      "By: Andres Cabrera mantaraya36@gmail.com"
     ]
    },
    {
     "cell_type": "heading",
     "level": 2,
     "metadata": {},
     "source": [
      "Starting the Csound engine"
     ]
    },
    {
     "cell_type": "markdown",
     "metadata": {},
     "source": [
      "To use *icsound* create an icsound instance:"
     ]
    },
    {
     "cell_type": "code",
     "collapsed": false,
     "input": [
      "import icsound\n",
      "cs = icsound.icsound()"
     ],
     "language": "python",
     "metadata": {},
     "outputs": [],
     "prompt_number": 1
    },
    {
     "cell_type": "markdown",
     "metadata": {},
     "source": [
      "Then start the engine:"
     ]
    },
    {
     "cell_type": "code",
     "collapsed": false,
     "input": [
      "cs.start_engine()"
     ],
     "language": "python",
     "metadata": {},
     "outputs": [
      {
       "output_type": "stream",
       "stream": "stdout",
       "text": [
        "Csound server started. Listening to port 12894\n"
       ]
      }
     ],
     "prompt_number": 2
    },
    {
     "cell_type": "markdown",
     "metadata": {},
     "source": [
      "You can set the properties of the Csound engine with parameters to the start_engine() function."
     ]
    },
    {
     "cell_type": "code",
     "collapsed": false,
     "input": [
      "help(cs.start_engine)"
     ],
     "language": "python",
     "metadata": {},
     "outputs": [
      {
       "output_type": "stream",
       "stream": "stdout",
       "text": [
        "Help on method start_engine in module icsound:\n",
        "\n",
        "start_engine(self, sr=44100, ksmps=64, nchnls=2, zerodbfs=1.0, dacout='dac', adcin=None, port=12894) method of icsound.icsound instance\n",
        "    Start the csound engine on a separate thread\n",
        "\n"
       ]
      }
     ],
     "prompt_number": 3
    },
    {
     "cell_type": "markdown",
     "metadata": {},
     "source": [
      "The engine runs in a separate thread, so it doesn't block execution of python."
     ]
    },
    {
     "cell_type": "code",
     "collapsed": false,
     "input": [
      "cs.start_engine()"
     ],
     "language": "python",
     "metadata": {},
     "outputs": [
      {
       "output_type": "stream",
       "stream": "stdout",
       "text": [
        "icsound: Csound already running\n"
       ]
      }
     ],
     "prompt_number": 4
    },
    {
     "cell_type": "markdown",
     "metadata": {},
     "source": [
      "Use the *%%csound* magic command to directly type csound language code in the cell and send it to the current engine."
     ]
    },
    {
     "cell_type": "code",
     "collapsed": false,
     "input": [
      "%%csound\n",
      "gkinstr init 1"
     ],
     "language": "python",
     "metadata": {},
     "outputs": [],
     "prompt_number": 5
    },
    {
     "cell_type": "code",
     "collapsed": false,
     "input": [
      "%%csound\n",
      "print i(gkinstr)"
     ],
     "language": "python",
     "metadata": {},
     "outputs": [],
     "prompt_number": 6
    },
    {
     "cell_type": "markdown",
     "metadata": {},
     "source": [
      "So where did it print?"
     ]
    },
    {
     "cell_type": "code",
     "collapsed": false,
     "input": [
      "cs.print_log()"
     ],
     "language": "python",
     "metadata": {},
     "outputs": [
      {
       "output_type": "stream",
       "stream": "stdout",
       "text": [
        "rtaudio: ALSA module enabled\n",
        "rtmidi: ALSA Raw MIDI module enabled\n",
        "--Csound version 6.03.2 (double samples) Jun 15 2014\n",
        "graphics suppressed, ascii substituted\n",
        "0dBFS level = 1.0\n",
        "UDP server started on port 12894 \n",
        "orch now loaded\n",
        "audio buffered in 256 sample-frame blocks\n",
        "ALSA output: total buffer size: 1024, period size: 256 \n",
        "writing 512 sample blks of 64-bit floats to dac \n",
        "SECTION 1:\n",
        "instr 0:  #i0 = 1.000\n",
        "\n"
       ]
      }
     ],
     "prompt_number": 7
    },
    {
     "cell_type": "markdown",
     "metadata": {},
     "source": [
      "By default, messages from Csound are not shown, but they are stored in an internal buffer. You can view them with the print_log() function. If the log is getting too long and cinfusing, use the clear_log() function."
     ]
    },
    {
     "cell_type": "heading",
     "level": 2,
     "metadata": {},
     "source": [
      "Function tables"
     ]
    },
    {
     "cell_type": "markdown",
     "metadata": {},
     "source": [
      "You can create csound f-tables directly from python lists or numpy arrays:"
     ]
    },
    {
     "cell_type": "code",
     "collapsed": false,
     "input": [
      "cs.fill_table(1, [4,5,7,0,8,7,9])\n",
      "cs.fill_table(2, array([8,7,9, 1, 1, 1]))"
     ],
     "language": "python",
     "metadata": {},
     "outputs": [],
     "prompt_number": 8
    },
    {
     "cell_type": "markdown",
     "metadata": {},
     "source": [
      "Tables can be plotted in the usual matplotlib way, but icsound provides a plot_table function which styles the graphs."
     ]
    },
    {
     "cell_type": "code",
     "collapsed": false,
     "input": [
      "cs.plot_table(1)\n",
      "cs.plot_table(2, reuse=True)\n",
      "grid()"
     ],
     "language": "python",
     "metadata": {},
     "outputs": [
      {
       "metadata": {},
       "output_type": "display_data",
       "png": "[encoded data removed]"
      }
     ],
     "prompt_number": 9
    },
    {
     "cell_type": "markdown",
     "metadata": {},
     "source": [
      "You can get the function table values from the csound instance:"
     ]
    },
    {
     "cell_type": "code",
     "collapsed": false,
     "input": [
      "cs.get_table_data(1)"
     ],
     "language": "python",
     "metadata": {},
     "outputs": [
      {
       "metadata": {},
       "output_type": "pyout",
       "prompt_number": 10,
       "text": [
        "array([ 4.,  5.,  7.,  0.,  8.,  7.], dtype=float32)"
       ]
      }
     ],
     "prompt_number": 10
    },
    {
     "cell_type": "code",
     "collapsed": false,
     "input": [
      "cs.make_table(2, 1024, 10, 1)\n",
      "cs.make_table(3, 1024, -10, 0.5, 1)\n",
      "cs.plot_table(2)\n",
      "cs.plot_table(3, reuse=True)\n",
      "#ylim((-1.1,1.1))"
     ],
     "language": "python",
     "metadata": {},
     "outputs": [
      {
       "metadata": {},
       "output_type": "display_data",
       "png": "[encoded data removed]"
      }
     ],
     "prompt_number": 11
    },
    {
     "cell_type": "code",
     "collapsed": false,
     "input": [
      "cs.get_table_data(2)[100: 105]"
     ],
     "language": "python",
     "metadata": {},
     "outputs": [
      {
       "metadata": {},
       "output_type": "pyout",
       "prompt_number": 12,
       "text": [
        "array([ 0.57580817,  0.58081394,  0.58579785,  0.59075969,  0.59569931], dtype=float32)"
       ]
      }
     ],
     "prompt_number": 12
    },
    {
     "cell_type": "markdown",
     "metadata": {},
     "source": [
      "If ctypes is available in your system, icsound will use it to significantly speed up data transfer to and from Csound f-tables. The following will create 320 tables with 720 points each:"
     ]
    },
    {
     "cell_type": "code",
     "collapsed": false,
     "input": [
      "randsig = random.random((320, 720))\n",
      "i = 0\n",
      "for i,row in enumerate(randsig):\n",
      "    cs.fill_table(50 + i, row)\n",
      "    print i, '..', "
     ],
     "language": "python",
     "metadata": {},
     "outputs": [
      {
       "output_type": "stream",
       "stream": "stdout",
       "text": [
        "0 .. 1 .. "
       ]
      },
      {
       "output_type": "stream",
       "stream": "stdout",
       "text": [
        "2 .. "
       ]
      },
      {
       "output_type": "stream",
       "stream": "stdout",
       "text": [
        "3 .. 4 .. 5 .. "
       ]
      },
      {
       "output_type": "stream",
       "stream": "stdout",
       "text": [
        "6 .. 7 .. 8 .. "
       ]
      },
      {
       "output_type": "stream",
       "stream": "stdout",
       "text": [
        "9 .. 10 .. "
       ]
      },
      {
       "output_type": "stream",
       "stream": "stdout",
       "text": [
        "11 .. "
       ]
      },
      {
       "output_type": "stream",
       "stream": "stdout",
       "text": [
        "12 .. 13 .. "
       ]
      },
      {
       "output_type": "stream",
       "stream": "stdout",
       "text": [
        "14 .. "
       ]
      },
      {
       "output_type": "stream",
       "stream": "stdout",
       "text": [
        "15 .. "
       ]
      },
      {
       "output_type": "stream",
       "stream": "stdout",
       "text": [
        "16 .. 17 .. "
       ]
      },
      {
       "output_type": "stream",
       "stream": "stdout",
       "text": [
        "18 .. 19 .. 20 .. "
       ]
      },
      {
       "output_type": "stream",
       "stream": "stdout",
       "text": [
        "21 .. 22 .. "
       ]
      },
      {
       "output_type": "stream",
       "stream": "stdout",
       "text": [
        "23 .. 24 .. 25 .. 26 .. "
       ]
      },
      {
       "output_type": "stream",
       "stream": "stdout",
       "text": [
        "27 .. 28 .. 29 .. "
       ]
      },
      {
       "output_type": "stream",
       "stream": "stdout",
       "text": [
        "30 .. "
       ]
      },
      {
       "output_type": "stream",
       "stream": "stdout",
       "text": [
        "31 .. "
       ]
      },
      {
       "output_type": "stream",
       "stream": "stdout",
       "text": [
        "32 .. "
       ]
      },
      {
       "output_type": "stream",
       "stream": "stdout",
       "text": [
        "33 .. 34 .. 35 .. "
       ]
      },
      {
       "output_type": "stream",
       "stream": "stdout",
       "text": [
        "36 .. "
       ]
      },
      {
       "output_type": "stream",
       "stream": "stdout",
       "text": [
        "37 .. "
       ]
      },
      {
       "output_type": "stream",
       "stream": "stdout",
       "text": [
        "38 .. 39 .. "
       ]
      },
      {
       "output_type": "stream",
       "stream": "stdout",
       "text": [
        "40 .. "
       ]
      },
      {
       "output_type": "stream",
       "stream": "stdout",
       "text": [
        "41 .. "
       ]
      },
      {
       "output_type": "stream",
       "stream": "stdout",
       "text": [
        "42 .. "
       ]
      },
      {
       "output_type": "stream",
       "stream": "stdout",
       "text": [
        "43 .. 44 .. "
       ]
      },
      {
       "output_type": "stream",
       "stream": "stdout",
       "text": [
        "45 .. "
       ]
      },
      {
       "output_type": "stream",
       "stream": "stdout",
       "text": [
        "46 .. "
       ]
      },
      {
       "output_type": "stream",
       "stream": "stdout",
       "text": [
        "47 .. "
       ]
      },
      {
       "output_type": "stream",
       "stream": "stdout",
       "text": [
        "48 .. 49 .. 50 .. 51 .. "
       ]
      },
      {
       "output_type": "stream",
       "stream": "stdout",
       "text": [
        "52 .. 53 .. "
       ]
      },
      {
       "output_type": "stream",
       "stream": "stdout",
       "text": [
        "54 .. 55 .. "
       ]
      },
      {
       "output_type": "stream",
       "stream": "stdout",
       "text": [
        "56 .. 57 .. 58 .. "
       ]
      },
      {
       "output_type": "stream",
       "stream": "stdout",
       "text": [
        "59 .. "
       ]
      },
      {
       "output_type": "stream",
       "stream": "stdout",
       "text": [
        "60 .. 61 .. "
       ]
      },
      {
       "output_type": "stream",
       "stream": "stdout",
       "text": [
        "62 .. 63 .. "
       ]
      },
      {
       "output_type": "stream",
       "stream": "stdout",
       "text": [
        "64 .. 65 .. "
       ]
      },
      {
       "output_type": "stream",
       "stream": "stdout",
       "text": [
        "66 .. "
       ]
      },
      {
       "output_type": "stream",
       "stream": "stdout",
       "text": [
        "67 .. 68 .. "
       ]
      },
      {
       "output_type": "stream",
       "stream": "stdout",
       "text": [
        "69 .. 70 .. 71 .. "
       ]
      },
      {
       "output_type": "stream",
       "stream": "stdout",
       "text": [
        "72 .. 73 .. 74 .. "
       ]
      },
      {
       "output_type": "stream",
       "stream": "stdout",
       "text": [
        "75 .. 76 .. "
       ]
      },
      {
       "output_type": "stream",
       "stream": "stdout",
       "text": [
        "77 .. 78 .. "
       ]
      },
      {
       "output_type": "stream",
       "stream": "stdout",
       "text": [
        "79 .. 80 .. 81 .. "
       ]
      },
      {
       "output_type": "stream",
       "stream": "stdout",
       "text": [
        "82 .. 83 .. "
       ]
      },
      {
       "output_type": "stream",
       "stream": "stdout",
       "text": [
        "84 .. 85 .. "
       ]
      },
      {
       "output_type": "stream",
       "stream": "stdout",
       "text": [
        "86 .. 87 .. 88 .. 89 .. "
       ]
      },
      {
       "output_type": "stream",
       "stream": "stdout",
       "text": [
        "90 .. 91 .. "
       ]
      },
      {
       "output_type": "stream",
       "stream": "stdout",
       "text": [
        "92 .. 93 .. "
       ]
      },
      {
       "output_type": "stream",
       "stream": "stdout",
       "text": [
        "94 .. "
       ]
      },
      {
       "output_type": "stream",
       "stream": "stdout",
       "text": [
        "95 .. 96 .. 97 .. "
       ]
      },
      {
       "output_type": "stream",
       "stream": "stdout",
       "text": [
        "98 .. 99 .. 100 .. "
       ]
      },
      {
       "output_type": "stream",
       "stream": "stdout",
       "text": [
        "101 .. "
       ]
      },
      {
       "output_type": "stream",
       "stream": "stdout",
       "text": [
        "102 .. "
       ]
      },
      {
       "output_type": "stream",
       "stream": "stdout",
       "text": [
        "103 .. 104 .. "
       ]
      },
      {
       "output_type": "stream",
       "stream": "stdout",
       "text": [
        "105 .. 106 .. "
       ]
      },
      {
       "output_type": "stream",
       "stream": "stdout",
       "text": [
        "107 .. "
       ]
      },
      {
       "output_type": "stream",
       "stream": "stdout",
       "text": [
        "108 .. "
       ]
      },
      {
       "output_type": "stream",
       "stream": "stdout",
       "text": [
        "109 .. 110 .. "
       ]
      },
      {
       "output_type": "stream",
       "stream": "stdout",
       "text": [
        "111 .. 112 .. 113 .. "
       ]
      },
      {
       "output_type": "stream",
       "stream": "stdout",
       "text": [
        "114 .. 115 .. "
       ]
      },
      {
       "output_type": "stream",
       "stream": "stdout",
       "text": [
        "116 .. 117 .. 118 .. "
       ]
      },
      {
       "output_type": "stream",
       "stream": "stdout",
       "text": [
        "119 .. 120 .. "
       ]
      },
      {
       "output_type": "stream",
       "stream": "stdout",
       "text": [
        "121 .. "
       ]
      },
      {
       "output_type": "stream",
       "stream": "stdout",
       "text": [
        "122 .. "
       ]
      },
      {
       "output_type": "stream",
       "stream": "stdout",
       "text": [
        "123 .. 124 .. 125 .. "
       ]
      },
      {
       "output_type": "stream",
       "stream": "stdout",
       "text": [
        "126 .. 127 .. "
       ]
      },
      {
       "output_type": "stream",
       "stream": "stdout",
       "text": [
        "128 .. 129 .. 130 .. "
       ]
      },
      {
       "output_type": "stream",
       "stream": "stdout",
       "text": [
        "131 .. 132 .. "
       ]
      },
      {
       "output_type": "stream",
       "stream": "stdout",
       "text": [
        "133 .. "
       ]
      },
      {
       "output_type": "stream",
       "stream": "stdout",
       "text": [
        "134 .. "
       ]
      },
      {
       "output_type": "stream",
       "stream": "stdout",
       "text": [
        "135 .. 136 .. "
       ]
      },
      {
       "output_type": "stream",
       "stream": "stdout",
       "text": [
        "137 .. "
       ]
      },
      {
       "output_type": "stream",
       "stream": "stdout",
       "text": [
        "138 .. "
       ]
      },
      {
       "output_type": "stream",
       "stream": "stdout",
       "text": [
        "139 .. "
       ]
      },
      {
       "output_type": "stream",
       "stream": "stdout",
       "text": [
        "140 .. 141 .. "
       ]
      },
      {
       "output_type": "stream",
       "stream": "stdout",
       "text": [
        "142 .. "
       ]
      },
      {
       "output_type": "stream",
       "stream": "stdout",
       "text": [
        "143 .. 144 .. "
       ]
      },
      {
       "output_type": "stream",
       "stream": "stdout",
       "text": [
        "145 .. "
       ]
      },
      {
       "output_type": "stream",
       "stream": "stdout",
       "text": [
        "146 .. 147 .. 148 .. "
       ]
      },
      {
       "output_type": "stream",
       "stream": "stdout",
       "text": [
        "149 .. "
       ]
      },
      {
       "output_type": "stream",
       "stream": "stdout",
       "text": [
        "150 .. "
       ]
      },
      {
       "output_type": "stream",
       "stream": "stdout",
       "text": [
        "151 .. 152 .. "
       ]
      },
      {
       "output_type": "stream",
       "stream": "stdout",
       "text": [
        "153 .. "
       ]
      },
      {
       "output_type": "stream",
       "stream": "stdout",
       "text": [
        "154 .. 155 .. "
       ]
      },
      {
       "output_type": "stream",
       "stream": "stdout",
       "text": [
        "156 .. 157 .. "
       ]
      },
      {
       "output_type": "stream",
       "stream": "stdout",
       "text": [
        "158 .. "
       ]
      },
      {
       "output_type": "stream",
       "stream": "stdout",
       "text": [
        "159 .. 160 .. "
       ]
      },
      {
       "output_type": "stream",
       "stream": "stdout",
       "text": [
        "161 .. 162 .. 163 .. 164 .. "
       ]
      },
      {
       "output_type": "stream",
       "stream": "stdout",
       "text": [
        "165 .. "
       ]
      },
      {
       "output_type": "stream",
       "stream": "stdout",
       "text": [
        "166 .. 167 .. 168 .. "
       ]
      },
      {
       "output_type": "stream",
       "stream": "stdout",
       "text": [
        "169 .. "
       ]
      },
      {
       "output_type": "stream",
       "stream": "stdout",
       "text": [
        "170 .. 171 .. "
       ]
      },
      {
       "output_type": "stream",
       "stream": "stdout",
       "text": [
        "172 .. 173 .. "
       ]
      },
      {
       "output_type": "stream",
       "stream": "stdout",
       "text": [
        "174 .. 175 .. "
       ]
      },
      {
       "output_type": "stream",
       "stream": "stdout",
       "text": [
        "176 .. 177 .. 178 .. "
       ]
      },
      {
       "output_type": "stream",
       "stream": "stdout",
       "text": [
        "179 .. "
       ]
      },
      {
       "output_type": "stream",
       "stream": "stdout",
       "text": [
        "180 .. 181 .. "
       ]
      },
      {
       "output_type": "stream",
       "stream": "stdout",
       "text": [
        "182 .. 183 .. "
       ]
      },
      {
       "output_type": "stream",
       "stream": "stdout",
       "text": [
        "184 .. "
       ]
      },
      {
       "output_type": "stream",
       "stream": "stdout",
       "text": [
        "185 .. 186 .. "
       ]
      },
      {
       "output_type": "stream",
       "stream": "stdout",
       "text": [
        "187 .. "
       ]
      },
      {
       "output_type": "stream",
       "stream": "stdout",
       "text": [
        "188 .. 189 .. "
       ]
      },
      {
       "output_type": "stream",
       "stream": "stdout",
       "text": [
        "190 .. "
       ]
      },
      {
       "output_type": "stream",
       "stream": "stdout",
       "text": [
        "191 .. 192 .. "
       ]
      },
      {
       "output_type": "stream",
       "stream": "stdout",
       "text": [
        "193 .. 194 .. 195 .. "
       ]
      },
      {
       "output_type": "stream",
       "stream": "stdout",
       "text": [
        "196 .. 197 .. 198 .. "
       ]
      },
      {
       "output_type": "stream",
       "stream": "stdout",
       "text": [
        "199 .. "
       ]
      },
      {
       "output_type": "stream",
       "stream": "stdout",
       "text": [
        "200 .. 201 .. 202 .. "
       ]
      },
      {
       "output_type": "stream",
       "stream": "stdout",
       "text": [
        "203 .. 204 .. 205 .. 206 .. "
       ]
      },
      {
       "output_type": "stream",
       "stream": "stdout",
       "text": [
        "207 .. 208 .. 209 .. "
       ]
      },
      {
       "output_type": "stream",
       "stream": "stdout",
       "text": [
        "210 .. 211 .. "
       ]
      },
      {
       "output_type": "stream",
       "stream": "stdout",
       "text": [
        "212 .. 213 .. "
       ]
      },
      {
       "output_type": "stream",
       "stream": "stdout",
       "text": [
        "214 .. 215 .. 216 .. "
       ]
      },
      {
       "output_type": "stream",
       "stream": "stdout",
       "text": [
        "217 .. 218 .. "
       ]
      },
      {
       "output_type": "stream",
       "stream": "stdout",
       "text": [
        "219 .. "
       ]
      },
      {
       "output_type": "stream",
       "stream": "stdout",
       "text": [
        "220 .. 221 .. "
       ]
      },
      {
       "output_type": "stream",
       "stream": "stdout",
       "text": [
        "222 .. "
       ]
      },
      {
       "output_type": "stream",
       "stream": "stdout",
       "text": [
        "223 .. 224 .. 225 .. "
       ]
      },
      {
       "output_type": "stream",
       "stream": "stdout",
       "text": [
        "226 .. 227 .. 228 .. "
       ]
      },
      {
       "output_type": "stream",
       "stream": "stdout",
       "text": [
        "229 .. "
       ]
      },
      {
       "output_type": "stream",
       "stream": "stdout",
       "text": [
        "230 .. 231 .. 232 .. 233 .. "
       ]
      },
      {
       "output_type": "stream",
       "stream": "stdout",
       "text": [
        "234 .. 235 .. 236 .. "
       ]
      },
      {
       "output_type": "stream",
       "stream": "stdout",
       "text": [
        "237 .. 238 .. "
       ]
      },
      {
       "output_type": "stream",
       "stream": "stdout",
       "text": [
        "239 .. "
       ]
      },
      {
       "output_type": "stream",
       "stream": "stdout",
       "text": [
        "240 .. 241 .. 242 .. "
       ]
      },
      {
       "output_type": "stream",
       "stream": "stdout",
       "text": [
        "243 .. 244 .. "
       ]
      },
      {
       "output_type": "stream",
       "stream": "stdout",
       "text": [
        "245 .. "
       ]
      },
      {
       "output_type": "stream",
       "stream": "stdout",
       "text": [
        "246 .. 247 .. "
       ]
      },
      {
       "output_type": "stream",
       "stream": "stdout",
       "text": [
        "248 .. 249 .. "
       ]
      },
      {
       "output_type": "stream",
       "stream": "stdout",
       "text": [
        "250 .. 251 .. 252 .. "
       ]
      },
      {
       "output_type": "stream",
       "stream": "stdout",
       "text": [
        "253 .. 254 .. 255 .. "
       ]
      },
      {
       "output_type": "stream",
       "stream": "stdout",
       "text": [
        "256 .. "
       ]
      },
      {
       "output_type": "stream",
       "stream": "stdout",
       "text": [
        "257 .. 258 .. 259 .. 260 .. "
       ]
      },
      {
       "output_type": "stream",
       "stream": "stdout",
       "text": [
        "261 .. "
       ]
      },
      {
       "output_type": "stream",
       "stream": "stdout",
       "text": [
        "262 .. 263 .. 264 .. "
       ]
      },
      {
       "output_type": "stream",
       "stream": "stdout",
       "text": [
        "265 .. 266 .. 267 .. 268 .. "
       ]
      },
      {
       "output_type": "stream",
       "stream": "stdout",
       "text": [
        "269 .. 270 .. 271 .. 272 .. "
       ]
      },
      {
       "output_type": "stream",
       "stream": "stdout",
       "text": [
        "273 .. 274 .. 275 .. "
       ]
      },
      {
       "output_type": "stream",
       "stream": "stdout",
       "text": [
        "276 .. 277 .. 278 .. 279 .. "
       ]
      },
      {
       "output_type": "stream",
       "stream": "stdout",
       "text": [
        "280 .. 281 .. "
       ]
      },
      {
       "output_type": "stream",
       "stream": "stdout",
       "text": [
        "282 .. 283 .. "
       ]
      },
      {
       "output_type": "stream",
       "stream": "stdout",
       "text": [
        "284 .. "
       ]
      },
      {
       "output_type": "stream",
       "stream": "stdout",
       "text": [
        "285 .. "
       ]
      },
      {
       "output_type": "stream",
       "stream": "stdout",
       "text": [
        "286 .. 287 .. 288 .. "
       ]
      },
      {
       "output_type": "stream",
       "stream": "stdout",
       "text": [
        "289 .. "
       ]
      },
      {
       "output_type": "stream",
       "stream": "stdout",
       "text": [
        "290 .. 291 .. 292 .. "
       ]
      },
      {
       "output_type": "stream",
       "stream": "stdout",
       "text": [
        "293 .. 294 .. 295 .. 296 .. 297 .. 298 .. "
       ]
      },
      {
       "output_type": "stream",
       "stream": "stdout",
       "text": [
        "299 .. 300 .. "
       ]
      },
      {
       "output_type": "stream",
       "stream": "stdout",
       "text": [
        "301 .. 302 .. "
       ]
      },
      {
       "output_type": "stream",
       "stream": "stdout",
       "text": [
        "303 .. 304 .. 305 .. "
       ]
      },
      {
       "output_type": "stream",
       "stream": "stdout",
       "text": [
        "306 .. "
       ]
      },
      {
       "output_type": "stream",
       "stream": "stdout",
       "text": [
        "307 .. 308 .. 309 .. "
       ]
      },
      {
       "output_type": "stream",
       "stream": "stdout",
       "text": [
        "310 .. 311 .. 312 .. 313 .. 314 .. 315 .. "
       ]
      },
      {
       "output_type": "stream",
       "stream": "stdout",
       "text": [
        "316 .. "
       ]
      },
      {
       "output_type": "stream",
       "stream": "stdout",
       "text": [
        "317 .. 318 .. "
       ]
      },
      {
       "output_type": "stream",
       "stream": "stdout",
       "text": [
        "319 ..\n"
       ]
      }
     ],
     "prompt_number": 13
    },
    {
     "cell_type": "code",
     "collapsed": false,
     "input": [
      "cs.plot_table(104)"
     ],
     "language": "python",
     "metadata": {},
     "outputs": [
      {
       "metadata": {},
       "output_type": "display_data",
       "png": "[encoded data removed]"
      }
     ],
     "prompt_number": 14
    },
    {
     "cell_type": "heading",
     "level": 2,
     "metadata": {},
     "source": [
      "Sending instruments"
     ]
    },
    {
     "cell_type": "markdown",
     "metadata": {},
     "source": [
      "You can send instruments to the running csound engine with the *%%csound* magic. Any syntax errors will be displayed inline."
     ]
    },
    {
     "cell_type": "code",
     "collapsed": false,
     "input": [
      "%%csound\n",
      "instr 1\n",
      "asig asds"
     ],
     "language": "python",
     "metadata": {},
     "outputs": [
      {
       "output_type": "stream",
       "stream": "stdout",
       "text": [
        "\n",
        "error: syntax error, unexpected T_IDENT  (token \"asds\") line 120:\n",
        ">>>asig asds <<<\n",
        "Unexpected untyped word asig when expecting a variable\n",
        "Parsing failed due to invalid input!\n",
        "Stopping on parser failure\n",
        "\n"
       ]
      }
     ],
     "prompt_number": 15
    },
    {
     "cell_type": "code",
     "collapsed": false,
     "input": [
      "%%csound\n",
      "instr 1\n",
      "asig oscil 0.5, 440\n",
      "outs asig, asig\n"
     ],
     "language": "python",
     "metadata": {},
     "outputs": [
      {
       "output_type": "stream",
       "stream": "stdout",
       "text": [
        "\n",
        "error: syntax error, unexpected $end  (token \"\") line 8696292:\n",
        ">>> <<<\n",
        "Parsing failed due to invalid input!\n",
        "Stopping on parser failure\n",
        "\n"
       ]
      }
     ],
     "prompt_number": 16
    },
    {
     "cell_type": "code",
     "collapsed": false,
     "input": [
      "%%csound\n",
      "instr 1\n",
      "asig oscil 0.5, 440\n",
      "outs asig, asig\n",
      "endin"
     ],
     "language": "python",
     "metadata": {},
     "outputs": [],
     "prompt_number": 17
    },
    {
     "cell_type": "heading",
     "level": 2,
     "metadata": {},
     "source": [
      "Channels"
     ]
    },
    {
     "cell_type": "markdown",
     "metadata": {},
     "source": [
      "Csound channels can be used to send values to Csound. They can affect running instances of instruments by using the invalue/chnget opcodes:"
     ]
    },
    {
     "cell_type": "code",
     "collapsed": false,
     "input": [
      "cs.set_channel(\"val\", 10)"
     ],
     "language": "python",
     "metadata": {},
     "outputs": [],
     "prompt_number": 18
    },
    {
     "cell_type": "markdown",
     "metadata": {},
     "source": [
      "You can also read the channels from Csound. These channels can be set from icsound or within instruments with the outvalue/chnset opcodes:"
     ]
    },
    {
     "cell_type": "code",
     "collapsed": false,
     "input": [
      "cs.get_channel(\"val\")"
     ],
     "language": "python",
     "metadata": {},
     "outputs": [
      {
       "metadata": {},
       "output_type": "pyout",
       "prompt_number": 19,
       "text": [
        "10.0"
       ]
      }
     ],
     "prompt_number": 19
    },
    {
     "cell_type": "heading",
     "level": 2,
     "metadata": {},
     "source": [
      "Recording the output"
     ]
    },
    {
     "cell_type": "markdown",
     "metadata": {},
     "source": [
      "You can record the realtime output from csound: (This requires Csound 6.04 - unrealeased as of this writing...)"
     ]
    },
    {
     "cell_type": "code",
     "collapsed": false,
     "input": [
      "cs.start_record(\"out.wav\")"
     ],
     "language": "python",
     "metadata": {},
     "outputs": [],
     "prompt_number": 25
    },
    {
     "cell_type": "code",
     "collapsed": false,
     "input": [
      "cs.send_score(\"i 1 0 1\")\n",
      "import time\n",
      "time.sleep(1)"
     ],
     "language": "python",
     "metadata": {},
     "outputs": [],
     "prompt_number": 26
    },
    {
     "cell_type": "code",
     "collapsed": false,
     "input": [
      "cs.stop_record()"
     ],
     "language": "python",
     "metadata": {},
     "outputs": [],
     "prompt_number": 27
    },
    {
     "cell_type": "code",
     "collapsed": false,
     "input": [
      "!aplay out.wav"
     ],
     "language": "python",
     "metadata": {},
     "outputs": [
      {
       "output_type": "stream",
       "stream": "stdout",
       "text": [
        "Playing WAVE 'out.wav' : Signed 16 bit Little Endian, Rate 44100 Hz, Stereo\r\n"
       ]
      }
     ],
     "prompt_number": 28
    },
    {
     "cell_type": "heading",
     "level": 2,
     "metadata": {},
     "source": [
      "Remote engines"
     ]
    },
    {
     "cell_type": "markdown",
     "metadata": {},
     "source": [
      "You can also interact with engines through UDP. Note that not all operations are available, notably reading f-tables, but you can send instruments and note events to the remote engine."
     ]
    },
    {
     "cell_type": "code",
     "collapsed": false,
     "input": [
      "cs_client = icsound.icsound()\n",
      "cs_client.start_client()"
     ],
     "language": "python",
     "metadata": {},
     "outputs": [],
     "prompt_number": 31
    },
    {
     "cell_type": "code",
     "collapsed": false,
     "input": [
      "cs.clear_log()"
     ],
     "language": "python",
     "metadata": {},
     "outputs": [],
     "prompt_number": 32
    },
    {
     "cell_type": "markdown",
     "metadata": {},
     "source": [
      "Now send notes and instruments from the client:"
     ]
    },
    {
     "cell_type": "code",
     "collapsed": false,
     "input": [
      "cs_client.send_score(\"i 1 0 1\")\n",
      "cs_client.send_code(\"print i(gkinstr)\")"
     ],
     "language": "python",
     "metadata": {},
     "outputs": [],
     "prompt_number": 33
    },
    {
     "cell_type": "markdown",
     "metadata": {},
     "source": [
      "And show the log in the server:"
     ]
    },
    {
     "cell_type": "code",
     "collapsed": false,
     "input": [
      "cs.print_log()"
     ],
     "language": "python",
     "metadata": {},
     "outputs": [
      {
       "output_type": "stream",
       "stream": "stdout",
       "text": [
        "  rtevent:\t   T 74.034 TT 74.034 M:  0.50000  0.50000\n",
        "instr 0:  #i2 = 1.000\n"
       ]
      },
      {
       "output_type": "stream",
       "stream": "stdout",
       "text": [
        "\n"
       ]
      }
     ],
     "prompt_number": 34
    },
    {
     "cell_type": "heading",
     "level": 2,
     "metadata": {},
     "source": [
      "Stopping the engine"
     ]
    },
    {
     "cell_type": "code",
     "collapsed": false,
     "input": [
      "cs.stop_engine()"
     ],
     "language": "python",
     "metadata": {},
     "outputs": []
    },
    {
     "cell_type": "code",
     "collapsed": false,
     "input": [
      "cs"
     ],
     "language": "python",
     "metadata": {},
     "outputs": []
    },
    {
     "cell_type": "code",
     "collapsed": false,
     "input": [
      "cs.stop_engine()"
     ],
     "language": "python",
     "metadata": {},
     "outputs": []
    },
    {
     "cell_type": "code",
     "collapsed": false,
     "input": [],
     "language": "python",
     "metadata": {},
     "outputs": []
    },
    {
     "cell_type": "heading",
     "level": 2,
     "metadata": {},
     "source": [
      "Other tests"
     ]
    },
    {
     "cell_type": "markdown",
     "metadata": {},
     "source": [
      "Another engine:"
     ]
    },
    {
     "cell_type": "code",
     "collapsed": false,
     "input": [
      "ics = icsound.icsound()"
     ],
     "language": "python",
     "metadata": {},
     "outputs": [],
     "prompt_number": 9
    },
    {
     "cell_type": "code",
     "collapsed": false,
     "input": [
      "ics.start_engine(buffersize=64)"
     ],
     "language": "python",
     "metadata": {},
     "outputs": [
      {
       "output_type": "stream",
       "stream": "stdout",
       "text": [
        "Csound server started.\n"
       ]
      }
     ],
     "prompt_number": 10
    },
    {
     "cell_type": "code",
     "collapsed": false,
     "input": [
      "ics.list_interfaces()"
     ],
     "language": "python",
     "metadata": {},
     "outputs": [
      {
       "output_type": "stream",
       "stream": "stdout",
       "text": [
        "4 interfaces available:\n"
       ]
      }
     ],
     "prompt_number": 11
    },
    {
     "cell_type": "code",
     "collapsed": false,
     "input": [
      "%%csound\n",
      "\n",
      "instr 1\n",
      "asig oscil 0.5, 440\n",
      "outs asig, asig\n",
      "endin"
     ],
     "language": "python",
     "metadata": {},
     "outputs": [],
     "prompt_number": 12
    },
    {
     "cell_type": "code",
     "collapsed": false,
     "input": [
      "ics.send_score(\"i 1 0 0.5\")"
     ],
     "language": "python",
     "metadata": {},
     "outputs": [],
     "prompt_number": 13
    },
    {
     "cell_type": "code",
     "collapsed": false,
     "input": [
      "ics.stop_engine()"
     ],
     "language": "python",
     "metadata": {},
     "outputs": []
    },
    {
     "cell_type": "code",
     "collapsed": false,
     "input": [
      "del ics"
     ],
     "language": "python",
     "metadata": {},
     "outputs": [],
     "prompt_number": 8
    },
    {
     "cell_type": "code",
     "collapsed": false,
     "input": [],
     "language": "python",
     "metadata": {},
     "outputs": []
    }
   ],
   "metadata": {}
  }
 ]
}